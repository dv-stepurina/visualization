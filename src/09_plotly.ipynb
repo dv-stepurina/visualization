{
 "cells": [
  {
   "cell_type": "markdown",
   "id": "be83745a",
   "metadata": {},
   "source": [
    "## Animated visualizing dynamic of commits per user in project1"
   ]
  },
  {
   "cell_type": "code",
   "execution_count": 7,
   "id": "95ef1c0d",
   "metadata": {},
   "outputs": [],
   "source": [
    "import pandas as pd\n",
    "import sqlite3\n",
    "import plotly.graph_objects as go\n",
    "import numpy as np"
   ]
  },
  {
   "cell_type": "code",
   "execution_count": 8,
   "id": "be1135f1",
   "metadata": {},
   "outputs": [],
   "source": [
    "con = sqlite3.connect(\"../datasets/checking-logs.sqlite\")"
   ]
  },
  {
   "cell_type": "code",
   "execution_count": 9,
   "id": "e04f6054",
   "metadata": {},
   "outputs": [],
   "source": [
    "sql = \"\"\"\n",
    "SELECT uid, DATE(timestamp) as date, COUNT(*) AS commits\n",
    "FROM checker\n",
    "WHERE labname == 'project1' AND status == 'ready' AND uid LIKE 'user_%'\n",
    "GROUP BY uid, date\n",
    "ORDER By date\n",
    "\"\"\"\n",
    "df = pd.read_sql(sql,con, parse_dates='date')\n",
    "df['cum_commits'] = df.groupby('uid')['commits'].cumsum()\n",
    "del df['commits']\n",
    "zero_points = df.groupby('uid').first().reset_index()\n",
    "\n",
    "zero_points['cum_commits'] = 0\n",
    "zero_points['date'] = zero_points['date'] - pd.DateOffset(days=1) \n",
    "last_points = df.groupby('uid').last().reset_index()\n",
    "last_points['date'] = last_points['date'].max()\n",
    "df = pd.concat([zero_points, df, last_points]).sort_values(['date', 'uid'])\n"
   ]
  },
  {
   "cell_type": "code",
   "execution_count": 10,
   "id": "ad1d3eb1",
   "metadata": {},
   "outputs": [
    {
     "data": {
      "application/vnd.plotly.v1+json": {
       "config": {
        "plotlyServerURL": "https://plot.ly"
       },
       "data": [
        {
         "line": {
          "width": 2
         },
         "mode": "lines+markers",
         "name": "user_4",
         "type": "scatter",
         "x": [
          0
         ],
         "y": {
          "bdata": "AA==",
          "dtype": "i1"
         }
        },
        {
         "line": {
          "width": 2
         },
         "mode": "lines+markers",
         "name": "user_17",
         "type": "scatter",
         "x": [
          0
         ],
         "y": []
        },
        {
         "line": {
          "width": 2
         },
         "mode": "lines+markers",
         "name": "user_30",
         "type": "scatter",
         "x": [
          0
         ],
         "y": []
        },
        {
         "line": {
          "width": 2
         },
         "mode": "lines+markers",
         "name": "user_11",
         "type": "scatter",
         "x": [
          0
         ],
         "y": []
        },
        {
         "line": {
          "width": 2
         },
         "mode": "lines+markers",
         "name": "user_22",
         "type": "scatter",
         "x": [
          0
         ],
         "y": []
        },
        {
         "line": {
          "width": 2
         },
         "mode": "lines+markers",
         "name": "user_14",
         "type": "scatter",
         "x": [
          0
         ],
         "y": []
        },
        {
         "line": {
          "width": 2
         },
         "mode": "lines+markers",
         "name": "user_2",
         "type": "scatter",
         "x": [
          0
         ],
         "y": []
        },
        {
         "line": {
          "width": 2
         },
         "mode": "lines+markers",
         "name": "user_3",
         "type": "scatter",
         "x": [
          0
         ],
         "y": []
        },
        {
         "line": {
          "width": 2
         },
         "mode": "lines+markers",
         "name": "user_31",
         "type": "scatter",
         "x": [
          0
         ],
         "y": []
        },
        {
         "line": {
          "width": 2
         },
         "mode": "lines+markers",
         "name": "user_25",
         "type": "scatter",
         "x": [
          0
         ],
         "y": []
        },
        {
         "line": {
          "width": 2
         },
         "mode": "lines+markers",
         "name": "user_21",
         "type": "scatter",
         "x": [
          0
         ],
         "y": []
        },
        {
         "line": {
          "width": 2
         },
         "mode": "lines+markers",
         "name": "user_26",
         "type": "scatter",
         "x": [
          0
         ],
         "y": []
        },
        {
         "line": {
          "width": 2
         },
         "mode": "lines+markers",
         "name": "user_13",
         "type": "scatter",
         "x": [
          0
         ],
         "y": []
        },
        {
         "line": {
          "width": 2
         },
         "mode": "lines+markers",
         "name": "user_18",
         "type": "scatter",
         "x": [
          0
         ],
         "y": []
        },
        {
         "line": {
          "width": 2
         },
         "mode": "lines+markers",
         "name": "user_20",
         "type": "scatter",
         "x": [
          0
         ],
         "y": []
        },
        {
         "line": {
          "width": 2
         },
         "mode": "lines+markers",
         "name": "user_29",
         "type": "scatter",
         "x": [
          0
         ],
         "y": []
        },
        {
         "line": {
          "width": 2
         },
         "mode": "lines+markers",
         "name": "user_10",
         "type": "scatter",
         "x": [
          0
         ],
         "y": []
        },
        {
         "line": {
          "width": 2
         },
         "mode": "lines+markers",
         "name": "user_16",
         "type": "scatter",
         "x": [
          0
         ],
         "y": []
        },
        {
         "line": {
          "width": 2
         },
         "mode": "lines+markers",
         "name": "user_28",
         "type": "scatter",
         "x": [
          0
         ],
         "y": []
        },
        {
         "line": {
          "width": 2
         },
         "mode": "lines+markers",
         "name": "user_24",
         "type": "scatter",
         "x": [
          0
         ],
         "y": []
        },
        {
         "line": {
          "width": 2
         },
         "mode": "lines+markers",
         "name": "user_6",
         "type": "scatter",
         "x": [
          0
         ],
         "y": []
        },
        {
         "line": {
          "width": 2
         },
         "mode": "lines+markers",
         "name": "user_1",
         "type": "scatter",
         "x": [
          0
         ],
         "y": []
        },
        {
         "line": {
          "width": 2
         },
         "mode": "lines+markers",
         "name": "user_12",
         "type": "scatter",
         "x": [
          0
         ],
         "y": []
        },
        {
         "line": {
          "width": 2
         },
         "mode": "lines+markers",
         "name": "user_15",
         "type": "scatter",
         "x": [
          0
         ],
         "y": []
        },
        {
         "line": {
          "width": 2
         },
         "mode": "lines+markers",
         "name": "user_19",
         "type": "scatter",
         "x": [
          0
         ],
         "y": []
        },
        {
         "line": {
          "width": 2
         },
         "mode": "lines+markers",
         "name": "user_27",
         "type": "scatter",
         "x": [
          0
         ],
         "y": []
        },
        {
         "line": {
          "width": 2
         },
         "mode": "lines+markers",
         "name": "user_8",
         "type": "scatter",
         "x": [
          0
         ],
         "y": []
        }
       ],
       "frames": [
        {
         "data": [
          {
           "line": {
            "width": 2
           },
           "mode": "lines+markers",
           "name": "user_4",
           "type": "scatter",
           "x": {
            "bdata": "AAE=",
            "dtype": "i1"
           },
           "y": {
            "bdata": "AAc=",
            "dtype": "i1"
           }
          },
          {
           "line": {
            "width": 2
           },
           "mode": "lines+markers",
           "name": "user_17",
           "type": "scatter",
           "x": {
            "bdata": "AQ==",
            "dtype": "i1"
           },
           "y": {
            "bdata": "AA==",
            "dtype": "i1"
           }
          }
         ]
        },
        {
         "data": [
          {
           "line": {
            "width": 2
           },
           "mode": "lines+markers",
           "name": "user_4",
           "type": "scatter",
           "x": {
            "bdata": "AAE=",
            "dtype": "i1"
           },
           "y": {
            "bdata": "AAc=",
            "dtype": "i1"
           }
          },
          {
           "line": {
            "width": 2
           },
           "mode": "lines+markers",
           "name": "user_17",
           "type": "scatter",
           "x": {
            "bdata": "AQI=",
            "dtype": "i1"
           },
           "y": {
            "bdata": "AAE=",
            "dtype": "i1"
           }
          }
         ]
        },
        {
         "data": [
          {
           "line": {
            "width": 2
           },
           "mode": "lines+markers",
           "name": "user_4",
           "type": "scatter",
           "x": {
            "bdata": "AAED",
            "dtype": "i1"
           },
           "y": {
            "bdata": "AAcL",
            "dtype": "i1"
           }
          },
          {
           "line": {
            "width": 2
           },
           "mode": "lines+markers",
           "name": "user_17",
           "type": "scatter",
           "x": {
            "bdata": "AQI=",
            "dtype": "i1"
           },
           "y": {
            "bdata": "AAE=",
            "dtype": "i1"
           }
          }
         ]
        },
        {
         "data": [
          {
           "line": {
            "width": 2
           },
           "mode": "lines+markers",
           "name": "user_4",
           "type": "scatter",
           "x": {
            "bdata": "AAED",
            "dtype": "i1"
           },
           "y": {
            "bdata": "AAcL",
            "dtype": "i1"
           }
          },
          {
           "line": {
            "width": 2
           },
           "mode": "lines+markers",
           "name": "user_17",
           "type": "scatter",
           "x": {
            "bdata": "AQI=",
            "dtype": "i1"
           },
           "y": {
            "bdata": "AAE=",
            "dtype": "i1"
           }
          },
          {
           "line": {
            "width": 2
           },
           "mode": "lines+markers",
           "name": "user_30",
           "type": "scatter",
           "x": {
            "bdata": "BA==",
            "dtype": "i1"
           },
           "y": {
            "bdata": "AA==",
            "dtype": "i1"
           }
          }
         ]
        },
        {
         "data": [
          {
           "line": {
            "width": 2
           },
           "mode": "lines+markers",
           "name": "user_4",
           "type": "scatter",
           "x": {
            "bdata": "AAED",
            "dtype": "i1"
           },
           "y": {
            "bdata": "AAcL",
            "dtype": "i1"
           }
          },
          {
           "line": {
            "width": 2
           },
           "mode": "lines+markers",
           "name": "user_17",
           "type": "scatter",
           "x": {
            "bdata": "AQI=",
            "dtype": "i1"
           },
           "y": {
            "bdata": "AAE=",
            "dtype": "i1"
           }
          },
          {
           "line": {
            "width": 2
           },
           "mode": "lines+markers",
           "name": "user_30",
           "type": "scatter",
           "x": {
            "bdata": "BAU=",
            "dtype": "i1"
           },
           "y": {
            "bdata": "AAE=",
            "dtype": "i1"
           }
          }
         ]
        },
        {
         "data": [
          {
           "line": {
            "width": 2
           },
           "mode": "lines+markers",
           "name": "user_4",
           "type": "scatter",
           "x": {
            "bdata": "AAEDBg==",
            "dtype": "i1"
           },
           "y": {
            "bdata": "AAcLFA==",
            "dtype": "i1"
           }
          },
          {
           "line": {
            "width": 2
           },
           "mode": "lines+markers",
           "name": "user_17",
           "type": "scatter",
           "x": {
            "bdata": "AQI=",
            "dtype": "i1"
           },
           "y": {
            "bdata": "AAE=",
            "dtype": "i1"
           }
          },
          {
           "line": {
            "width": 2
           },
           "mode": "lines+markers",
           "name": "user_30",
           "type": "scatter",
           "x": {
            "bdata": "BAUG",
            "dtype": "i1"
           },
           "y": {
            "bdata": "AAEC",
            "dtype": "i1"
           }
          }
         ]
        },
        {
         "data": [
          {
           "line": {
            "width": 2
           },
           "mode": "lines+markers",
           "name": "user_4",
           "type": "scatter",
           "x": {
            "bdata": "AAEDBgc=",
            "dtype": "i1"
           },
           "y": {
            "bdata": "AAcLFBs=",
            "dtype": "i1"
           }
          },
          {
           "line": {
            "width": 2
           },
           "mode": "lines+markers",
           "name": "user_17",
           "type": "scatter",
           "x": {
            "bdata": "AQI=",
            "dtype": "i1"
           },
           "y": {
            "bdata": "AAE=",
            "dtype": "i1"
           }
          },
          {
           "line": {
            "width": 2
           },
           "mode": "lines+markers",
           "name": "user_30",
           "type": "scatter",
           "x": {
            "bdata": "BAUG",
            "dtype": "i1"
           },
           "y": {
            "bdata": "AAEC",
            "dtype": "i1"
           }
          }
         ]
        },
        {
         "data": [
          {
           "line": {
            "width": 2
           },
           "mode": "lines+markers",
           "name": "user_4",
           "type": "scatter",
           "x": {
            "bdata": "AAEDBgc=",
            "dtype": "i1"
           },
           "y": {
            "bdata": "AAcLFBs=",
            "dtype": "i1"
           }
          },
          {
           "line": {
            "width": 2
           },
           "mode": "lines+markers",
           "name": "user_17",
           "type": "scatter",
           "x": {
            "bdata": "AQI=",
            "dtype": "i1"
           },
           "y": {
            "bdata": "AAE=",
            "dtype": "i1"
           }
          },
          {
           "line": {
            "width": 2
           },
           "mode": "lines+markers",
           "name": "user_30",
           "type": "scatter",
           "x": {
            "bdata": "BAUG",
            "dtype": "i1"
           },
           "y": {
            "bdata": "AAEC",
            "dtype": "i1"
           }
          },
          {
           "line": {
            "width": 2
           },
           "mode": "lines+markers",
           "name": "user_11",
           "type": "scatter",
           "x": {
            "bdata": "CA==",
            "dtype": "i1"
           },
           "y": {
            "bdata": "AA==",
            "dtype": "i1"
           }
          },
          {
           "line": {
            "width": 2
           },
           "mode": "lines+markers",
           "name": "user_22",
           "type": "scatter",
           "x": {
            "bdata": "CA==",
            "dtype": "i1"
           },
           "y": {
            "bdata": "AA==",
            "dtype": "i1"
           }
          }
         ]
        },
        {
         "data": [
          {
           "line": {
            "width": 2
           },
           "mode": "lines+markers",
           "name": "user_4",
           "type": "scatter",
           "x": {
            "bdata": "AAEDBgcJ",
            "dtype": "i1"
           },
           "y": {
            "bdata": "AAcLFBsj",
            "dtype": "i1"
           }
          },
          {
           "line": {
            "width": 2
           },
           "mode": "lines+markers",
           "name": "user_17",
           "type": "scatter",
           "x": {
            "bdata": "AQI=",
            "dtype": "i1"
           },
           "y": {
            "bdata": "AAE=",
            "dtype": "i1"
           }
          },
          {
           "line": {
            "width": 2
           },
           "mode": "lines+markers",
           "name": "user_30",
           "type": "scatter",
           "x": {
            "bdata": "BAUGCQ==",
            "dtype": "i1"
           },
           "y": {
            "bdata": "AAECBA==",
            "dtype": "i1"
           }
          },
          {
           "line": {
            "width": 2
           },
           "mode": "lines+markers",
           "name": "user_11",
           "type": "scatter",
           "x": {
            "bdata": "CAk=",
            "dtype": "i1"
           },
           "y": {
            "bdata": "AAE=",
            "dtype": "i1"
           }
          },
          {
           "line": {
            "width": 2
           },
           "mode": "lines+markers",
           "name": "user_22",
           "type": "scatter",
           "x": {
            "bdata": "CAk=",
            "dtype": "i1"
           },
           "y": {
            "bdata": "AAE=",
            "dtype": "i1"
           }
          }
         ]
        },
        {
         "data": [
          {
           "line": {
            "width": 2
           },
           "mode": "lines+markers",
           "name": "user_4",
           "type": "scatter",
           "x": {
            "bdata": "AAEDBgcJCg==",
            "dtype": "i1"
           },
           "y": {
            "bdata": "AAcLFBsjMA==",
            "dtype": "i1"
           }
          },
          {
           "line": {
            "width": 2
           },
           "mode": "lines+markers",
           "name": "user_17",
           "type": "scatter",
           "x": {
            "bdata": "AQI=",
            "dtype": "i1"
           },
           "y": {
            "bdata": "AAE=",
            "dtype": "i1"
           }
          },
          {
           "line": {
            "width": 2
           },
           "mode": "lines+markers",
           "name": "user_30",
           "type": "scatter",
           "x": {
            "bdata": "BAUGCQo=",
            "dtype": "i1"
           },
           "y": {
            "bdata": "AAECBAU=",
            "dtype": "i1"
           }
          },
          {
           "line": {
            "width": 2
           },
           "mode": "lines+markers",
           "name": "user_11",
           "type": "scatter",
           "x": {
            "bdata": "CAk=",
            "dtype": "i1"
           },
           "y": {
            "bdata": "AAE=",
            "dtype": "i1"
           }
          },
          {
           "line": {
            "width": 2
           },
           "mode": "lines+markers",
           "name": "user_22",
           "type": "scatter",
           "x": {
            "bdata": "CAk=",
            "dtype": "i1"
           },
           "y": {
            "bdata": "AAE=",
            "dtype": "i1"
           }
          },
          {
           "line": {
            "width": 2
           },
           "mode": "lines+markers",
           "name": "user_14",
           "type": "scatter",
           "x": {
            "bdata": "Cg==",
            "dtype": "i1"
           },
           "y": {
            "bdata": "AA==",
            "dtype": "i1"
           }
          },
          {
           "line": {
            "width": 2
           },
           "mode": "lines+markers",
           "name": "user_2",
           "type": "scatter",
           "x": {
            "bdata": "Cg==",
            "dtype": "i1"
           },
           "y": {
            "bdata": "AA==",
            "dtype": "i1"
           }
          }
         ]
        },
        {
         "data": [
          {
           "line": {
            "width": 2
           },
           "mode": "lines+markers",
           "name": "user_4",
           "type": "scatter",
           "x": {
            "bdata": "AAEDBgcJCgs=",
            "dtype": "i1"
           },
           "y": {
            "bdata": "AAcLFBsjMDU=",
            "dtype": "i1"
           }
          },
          {
           "line": {
            "width": 2
           },
           "mode": "lines+markers",
           "name": "user_17",
           "type": "scatter",
           "x": {
            "bdata": "AQI=",
            "dtype": "i1"
           },
           "y": {
            "bdata": "AAE=",
            "dtype": "i1"
           }
          },
          {
           "line": {
            "width": 2
           },
           "mode": "lines+markers",
           "name": "user_30",
           "type": "scatter",
           "x": {
            "bdata": "BAUGCQo=",
            "dtype": "i1"
           },
           "y": {
            "bdata": "AAECBAU=",
            "dtype": "i1"
           }
          },
          {
           "line": {
            "width": 2
           },
           "mode": "lines+markers",
           "name": "user_11",
           "type": "scatter",
           "x": {
            "bdata": "CAk=",
            "dtype": "i1"
           },
           "y": {
            "bdata": "AAE=",
            "dtype": "i1"
           }
          },
          {
           "line": {
            "width": 2
           },
           "mode": "lines+markers",
           "name": "user_22",
           "type": "scatter",
           "x": {
            "bdata": "CAk=",
            "dtype": "i1"
           },
           "y": {
            "bdata": "AAE=",
            "dtype": "i1"
           }
          },
          {
           "line": {
            "width": 2
           },
           "mode": "lines+markers",
           "name": "user_14",
           "type": "scatter",
           "x": {
            "bdata": "Cgs=",
            "dtype": "i1"
           },
           "y": {
            "bdata": "AAE=",
            "dtype": "i1"
           }
          },
          {
           "line": {
            "width": 2
           },
           "mode": "lines+markers",
           "name": "user_2",
           "type": "scatter",
           "x": {
            "bdata": "Cgs=",
            "dtype": "i1"
           },
           "y": {
            "bdata": "ADk=",
            "dtype": "i1"
           }
          }
         ]
        },
        {
         "data": [
          {
           "line": {
            "width": 2
           },
           "mode": "lines+markers",
           "name": "user_4",
           "type": "scatter",
           "x": {
            "bdata": "AAEDBgcJCgs=",
            "dtype": "i1"
           },
           "y": {
            "bdata": "AAcLFBsjMDU=",
            "dtype": "i1"
           }
          },
          {
           "line": {
            "width": 2
           },
           "mode": "lines+markers",
           "name": "user_17",
           "type": "scatter",
           "x": {
            "bdata": "AQI=",
            "dtype": "i1"
           },
           "y": {
            "bdata": "AAE=",
            "dtype": "i1"
           }
          },
          {
           "line": {
            "width": 2
           },
           "mode": "lines+markers",
           "name": "user_30",
           "type": "scatter",
           "x": {
            "bdata": "BAUGCQo=",
            "dtype": "i1"
           },
           "y": {
            "bdata": "AAECBAU=",
            "dtype": "i1"
           }
          },
          {
           "line": {
            "width": 2
           },
           "mode": "lines+markers",
           "name": "user_11",
           "type": "scatter",
           "x": {
            "bdata": "CAk=",
            "dtype": "i1"
           },
           "y": {
            "bdata": "AAE=",
            "dtype": "i1"
           }
          },
          {
           "line": {
            "width": 2
           },
           "mode": "lines+markers",
           "name": "user_22",
           "type": "scatter",
           "x": {
            "bdata": "CAk=",
            "dtype": "i1"
           },
           "y": {
            "bdata": "AAE=",
            "dtype": "i1"
           }
          },
          {
           "line": {
            "width": 2
           },
           "mode": "lines+markers",
           "name": "user_14",
           "type": "scatter",
           "x": {
            "bdata": "Cgs=",
            "dtype": "i1"
           },
           "y": {
            "bdata": "AAE=",
            "dtype": "i1"
           }
          },
          {
           "line": {
            "width": 2
           },
           "mode": "lines+markers",
           "name": "user_2",
           "type": "scatter",
           "x": {
            "bdata": "CgsM",
            "dtype": "i1"
           },
           "y": {
            "bdata": "ADk6",
            "dtype": "i1"
           }
          },
          {
           "line": {
            "width": 2
           },
           "mode": "lines+markers",
           "name": "user_3",
           "type": "scatter",
           "x": {
            "bdata": "DA==",
            "dtype": "i1"
           },
           "y": {
            "bdata": "AA==",
            "dtype": "i1"
           }
          },
          {
           "line": {
            "width": 2
           },
           "mode": "lines+markers",
           "name": "user_31",
           "type": "scatter",
           "x": {
            "bdata": "DA==",
            "dtype": "i1"
           },
           "y": {
            "bdata": "AA==",
            "dtype": "i1"
           }
          }
         ]
        },
        {
         "data": [
          {
           "line": {
            "width": 2
           },
           "mode": "lines+markers",
           "name": "user_4",
           "type": "scatter",
           "x": {
            "bdata": "AAEDBgcJCgsN",
            "dtype": "i1"
           },
           "y": {
            "bdata": "AAcLFBsjMDVH",
            "dtype": "i1"
           }
          },
          {
           "line": {
            "width": 2
           },
           "mode": "lines+markers",
           "name": "user_17",
           "type": "scatter",
           "x": {
            "bdata": "AQI=",
            "dtype": "i1"
           },
           "y": {
            "bdata": "AAE=",
            "dtype": "i1"
           }
          },
          {
           "line": {
            "width": 2
           },
           "mode": "lines+markers",
           "name": "user_30",
           "type": "scatter",
           "x": {
            "bdata": "BAUGCQoN",
            "dtype": "i1"
           },
           "y": {
            "bdata": "AAECBAUM",
            "dtype": "i1"
           }
          },
          {
           "line": {
            "width": 2
           },
           "mode": "lines+markers",
           "name": "user_11",
           "type": "scatter",
           "x": {
            "bdata": "CAk=",
            "dtype": "i1"
           },
           "y": {
            "bdata": "AAE=",
            "dtype": "i1"
           }
          },
          {
           "line": {
            "width": 2
           },
           "mode": "lines+markers",
           "name": "user_22",
           "type": "scatter",
           "x": {
            "bdata": "CAk=",
            "dtype": "i1"
           },
           "y": {
            "bdata": "AAE=",
            "dtype": "i1"
           }
          },
          {
           "line": {
            "width": 2
           },
           "mode": "lines+markers",
           "name": "user_14",
           "type": "scatter",
           "x": {
            "bdata": "Cgs=",
            "dtype": "i1"
           },
           "y": {
            "bdata": "AAE=",
            "dtype": "i1"
           }
          },
          {
           "line": {
            "width": 2
           },
           "mode": "lines+markers",
           "name": "user_2",
           "type": "scatter",
           "x": {
            "bdata": "CgsM",
            "dtype": "i1"
           },
           "y": {
            "bdata": "ADk6",
            "dtype": "i1"
           }
          },
          {
           "line": {
            "width": 2
           },
           "mode": "lines+markers",
           "name": "user_3",
           "type": "scatter",
           "x": {
            "bdata": "DA0=",
            "dtype": "i1"
           },
           "y": {
            "bdata": "AAE=",
            "dtype": "i1"
           }
          },
          {
           "line": {
            "width": 2
           },
           "mode": "lines+markers",
           "name": "user_31",
           "type": "scatter",
           "x": {
            "bdata": "DA0=",
            "dtype": "i1"
           },
           "y": {
            "bdata": "AAE=",
            "dtype": "i1"
           }
          },
          {
           "line": {
            "width": 2
           },
           "mode": "lines+markers",
           "name": "user_25",
           "type": "scatter",
           "x": {
            "bdata": "DQ==",
            "dtype": "i1"
           },
           "y": {
            "bdata": "AA==",
            "dtype": "i1"
           }
          }
         ]
        },
        {
         "data": [
          {
           "line": {
            "width": 2
           },
           "mode": "lines+markers",
           "name": "user_4",
           "type": "scatter",
           "x": {
            "bdata": "AAEDBgcJCgsNDg==",
            "dtype": "i1"
           },
           "y": {
            "bdata": "AAcLFBsjMDVHUw==",
            "dtype": "i1"
           }
          },
          {
           "line": {
            "width": 2
           },
           "mode": "lines+markers",
           "name": "user_17",
           "type": "scatter",
           "x": {
            "bdata": "AQI=",
            "dtype": "i1"
           },
           "y": {
            "bdata": "AAE=",
            "dtype": "i1"
           }
          },
          {
           "line": {
            "width": 2
           },
           "mode": "lines+markers",
           "name": "user_30",
           "type": "scatter",
           "x": {
            "bdata": "BAUGCQoN",
            "dtype": "i1"
           },
           "y": {
            "bdata": "AAECBAUM",
            "dtype": "i1"
           }
          },
          {
           "line": {
            "width": 2
           },
           "mode": "lines+markers",
           "name": "user_11",
           "type": "scatter",
           "x": {
            "bdata": "CAk=",
            "dtype": "i1"
           },
           "y": {
            "bdata": "AAE=",
            "dtype": "i1"
           }
          },
          {
           "line": {
            "width": 2
           },
           "mode": "lines+markers",
           "name": "user_22",
           "type": "scatter",
           "x": {
            "bdata": "CAk=",
            "dtype": "i1"
           },
           "y": {
            "bdata": "AAE=",
            "dtype": "i1"
           }
          },
          {
           "line": {
            "width": 2
           },
           "mode": "lines+markers",
           "name": "user_14",
           "type": "scatter",
           "x": {
            "bdata": "Cgs=",
            "dtype": "i1"
           },
           "y": {
            "bdata": "AAE=",
            "dtype": "i1"
           }
          },
          {
           "line": {
            "width": 2
           },
           "mode": "lines+markers",
           "name": "user_2",
           "type": "scatter",
           "x": {
            "bdata": "CgsM",
            "dtype": "i1"
           },
           "y": {
            "bdata": "ADk6",
            "dtype": "i1"
           }
          },
          {
           "line": {
            "width": 2
           },
           "mode": "lines+markers",
           "name": "user_3",
           "type": "scatter",
           "x": {
            "bdata": "DA0O",
            "dtype": "i1"
           },
           "y": {
            "bdata": "AAEc",
            "dtype": "i1"
           }
          },
          {
           "line": {
            "width": 2
           },
           "mode": "lines+markers",
           "name": "user_31",
           "type": "scatter",
           "x": {
            "bdata": "DA0=",
            "dtype": "i1"
           },
           "y": {
            "bdata": "AAE=",
            "dtype": "i1"
           }
          },
          {
           "line": {
            "width": 2
           },
           "mode": "lines+markers",
           "name": "user_25",
           "type": "scatter",
           "x": {
            "bdata": "DQ4=",
            "dtype": "i1"
           },
           "y": {
            "bdata": "AAU=",
            "dtype": "i1"
           }
          }
         ]
        },
        {
         "data": [
          {
           "line": {
            "width": 2
           },
           "mode": "lines+markers",
           "name": "user_4",
           "type": "scatter",
           "x": {
            "bdata": "AAEDBgcJCgsNDg==",
            "dtype": "i1"
           },
           "y": {
            "bdata": "AAcLFBsjMDVHUw==",
            "dtype": "i1"
           }
          },
          {
           "line": {
            "width": 2
           },
           "mode": "lines+markers",
           "name": "user_17",
           "type": "scatter",
           "x": {
            "bdata": "AQI=",
            "dtype": "i1"
           },
           "y": {
            "bdata": "AAE=",
            "dtype": "i1"
           }
          },
          {
           "line": {
            "width": 2
           },
           "mode": "lines+markers",
           "name": "user_30",
           "type": "scatter",
           "x": {
            "bdata": "BAUGCQoN",
            "dtype": "i1"
           },
           "y": {
            "bdata": "AAECBAUM",
            "dtype": "i1"
           }
          },
          {
           "line": {
            "width": 2
           },
           "mode": "lines+markers",
           "name": "user_11",
           "type": "scatter",
           "x": {
            "bdata": "CAk=",
            "dtype": "i1"
           },
           "y": {
            "bdata": "AAE=",
            "dtype": "i1"
           }
          },
          {
           "line": {
            "width": 2
           },
           "mode": "lines+markers",
           "name": "user_22",
           "type": "scatter",
           "x": {
            "bdata": "CAk=",
            "dtype": "i1"
           },
           "y": {
            "bdata": "AAE=",
            "dtype": "i1"
           }
          },
          {
           "line": {
            "width": 2
           },
           "mode": "lines+markers",
           "name": "user_14",
           "type": "scatter",
           "x": {
            "bdata": "CgsP",
            "dtype": "i1"
           },
           "y": {
            "bdata": "AAES",
            "dtype": "i1"
           }
          },
          {
           "line": {
            "width": 2
           },
           "mode": "lines+markers",
           "name": "user_2",
           "type": "scatter",
           "x": {
            "bdata": "CgsM",
            "dtype": "i1"
           },
           "y": {
            "bdata": "ADk6",
            "dtype": "i1"
           }
          },
          {
           "line": {
            "width": 2
           },
           "mode": "lines+markers",
           "name": "user_3",
           "type": "scatter",
           "x": {
            "bdata": "DA0ODw==",
            "dtype": "i1"
           },
           "y": {
            "bdata": "AAEcHQ==",
            "dtype": "i1"
           }
          },
          {
           "line": {
            "width": 2
           },
           "mode": "lines+markers",
           "name": "user_31",
           "type": "scatter",
           "x": {
            "bdata": "DA0P",
            "dtype": "i1"
           },
           "y": {
            "bdata": "AAEE",
            "dtype": "i1"
           }
          },
          {
           "line": {
            "width": 2
           },
           "mode": "lines+markers",
           "name": "user_25",
           "type": "scatter",
           "x": {
            "bdata": "DQ4P",
            "dtype": "i1"
           },
           "y": {
            "bdata": "AAUb",
            "dtype": "i1"
           }
          },
          {
           "line": {
            "width": 2
           },
           "mode": "lines+markers",
           "name": "user_21",
           "type": "scatter",
           "x": {
            "bdata": "Dw==",
            "dtype": "i1"
           },
           "y": {
            "bdata": "AA==",
            "dtype": "i1"
           }
          },
          {
           "line": {
            "width": 2
           },
           "mode": "lines+markers",
           "name": "user_26",
           "type": "scatter",
           "x": {
            "bdata": "Dw==",
            "dtype": "i1"
           },
           "y": {
            "bdata": "AA==",
            "dtype": "i1"
           }
          }
         ]
        },
        {
         "data": [
          {
           "line": {
            "width": 2
           },
           "mode": "lines+markers",
           "name": "user_4",
           "type": "scatter",
           "x": {
            "bdata": "AAEDBgcJCgsNDg==",
            "dtype": "i1"
           },
           "y": {
            "bdata": "AAcLFBsjMDVHUw==",
            "dtype": "i1"
           }
          },
          {
           "line": {
            "width": 2
           },
           "mode": "lines+markers",
           "name": "user_17",
           "type": "scatter",
           "x": {
            "bdata": "AQI=",
            "dtype": "i1"
           },
           "y": {
            "bdata": "AAE=",
            "dtype": "i1"
           }
          },
          {
           "line": {
            "width": 2
           },
           "mode": "lines+markers",
           "name": "user_30",
           "type": "scatter",
           "x": {
            "bdata": "BAUGCQoNEA==",
            "dtype": "i1"
           },
           "y": {
            "bdata": "AAECBAUMEQ==",
            "dtype": "i1"
           }
          },
          {
           "line": {
            "width": 2
           },
           "mode": "lines+markers",
           "name": "user_11",
           "type": "scatter",
           "x": {
            "bdata": "CAk=",
            "dtype": "i1"
           },
           "y": {
            "bdata": "AAE=",
            "dtype": "i1"
           }
          },
          {
           "line": {
            "width": 2
           },
           "mode": "lines+markers",
           "name": "user_22",
           "type": "scatter",
           "x": {
            "bdata": "CAk=",
            "dtype": "i1"
           },
           "y": {
            "bdata": "AAE=",
            "dtype": "i1"
           }
          },
          {
           "line": {
            "width": 2
           },
           "mode": "lines+markers",
           "name": "user_14",
           "type": "scatter",
           "x": {
            "bdata": "CgsPEA==",
            "dtype": "i1"
           },
           "y": {
            "bdata": "AAESGQ==",
            "dtype": "i1"
           }
          },
          {
           "line": {
            "width": 2
           },
           "mode": "lines+markers",
           "name": "user_2",
           "type": "scatter",
           "x": {
            "bdata": "CgsMEA==",
            "dtype": "i1"
           },
           "y": {
            "bdata": "ADk6Pg==",
            "dtype": "i1"
           }
          },
          {
           "line": {
            "width": 2
           },
           "mode": "lines+markers",
           "name": "user_3",
           "type": "scatter",
           "x": {
            "bdata": "DA0ODxA=",
            "dtype": "i1"
           },
           "y": {
            "bdata": "AAEcHR8=",
            "dtype": "i1"
           }
          },
          {
           "line": {
            "width": 2
           },
           "mode": "lines+markers",
           "name": "user_31",
           "type": "scatter",
           "x": {
            "bdata": "DA0P",
            "dtype": "i1"
           },
           "y": {
            "bdata": "AAEE",
            "dtype": "i1"
           }
          },
          {
           "line": {
            "width": 2
           },
           "mode": "lines+markers",
           "name": "user_25",
           "type": "scatter",
           "x": {
            "bdata": "DQ4PEA==",
            "dtype": "i1"
           },
           "y": {
            "bdata": "AAUbHQ==",
            "dtype": "i1"
           }
          },
          {
           "line": {
            "width": 2
           },
           "mode": "lines+markers",
           "name": "user_21",
           "type": "scatter",
           "x": {
            "bdata": "DxA=",
            "dtype": "i1"
           },
           "y": {
            "bdata": "AAc=",
            "dtype": "i1"
           }
          },
          {
           "line": {
            "width": 2
           },
           "mode": "lines+markers",
           "name": "user_26",
           "type": "scatter",
           "x": {
            "bdata": "DxA=",
            "dtype": "i1"
           },
           "y": {
            "bdata": "ACM=",
            "dtype": "i1"
           }
          },
          {
           "line": {
            "width": 2
           },
           "mode": "lines+markers",
           "name": "user_13",
           "type": "scatter",
           "x": {
            "bdata": "EA==",
            "dtype": "i1"
           },
           "y": {
            "bdata": "AA==",
            "dtype": "i1"
           }
          },
          {
           "line": {
            "width": 2
           },
           "mode": "lines+markers",
           "name": "user_18",
           "type": "scatter",
           "x": {
            "bdata": "EA==",
            "dtype": "i1"
           },
           "y": {
            "bdata": "AA==",
            "dtype": "i1"
           }
          },
          {
           "line": {
            "width": 2
           },
           "mode": "lines+markers",
           "name": "user_20",
           "type": "scatter",
           "x": {
            "bdata": "EA==",
            "dtype": "i1"
           },
           "y": {
            "bdata": "AA==",
            "dtype": "i1"
           }
          },
          {
           "line": {
            "width": 2
           },
           "mode": "lines+markers",
           "name": "user_29",
           "type": "scatter",
           "x": {
            "bdata": "EA==",
            "dtype": "i1"
           },
           "y": {
            "bdata": "AA==",
            "dtype": "i1"
           }
          }
         ]
        },
        {
         "data": [
          {
           "line": {
            "width": 2
           },
           "mode": "lines+markers",
           "name": "user_4",
           "type": "scatter",
           "x": {
            "bdata": "AAEDBgcJCgsNDhE=",
            "dtype": "i1"
           },
           "y": {
            "bdata": "AAcLFBsjMDVHU1c=",
            "dtype": "i1"
           }
          },
          {
           "line": {
            "width": 2
           },
           "mode": "lines+markers",
           "name": "user_17",
           "type": "scatter",
           "x": {
            "bdata": "AQI=",
            "dtype": "i1"
           },
           "y": {
            "bdata": "AAE=",
            "dtype": "i1"
           }
          },
          {
           "line": {
            "width": 2
           },
           "mode": "lines+markers",
           "name": "user_30",
           "type": "scatter",
           "x": {
            "bdata": "BAUGCQoNEA==",
            "dtype": "i1"
           },
           "y": {
            "bdata": "AAECBAUMEQ==",
            "dtype": "i1"
           }
          },
          {
           "line": {
            "width": 2
           },
           "mode": "lines+markers",
           "name": "user_11",
           "type": "scatter",
           "x": {
            "bdata": "CAk=",
            "dtype": "i1"
           },
           "y": {
            "bdata": "AAE=",
            "dtype": "i1"
           }
          },
          {
           "line": {
            "width": 2
           },
           "mode": "lines+markers",
           "name": "user_22",
           "type": "scatter",
           "x": {
            "bdata": "CAk=",
            "dtype": "i1"
           },
           "y": {
            "bdata": "AAE=",
            "dtype": "i1"
           }
          },
          {
           "line": {
            "width": 2
           },
           "mode": "lines+markers",
           "name": "user_14",
           "type": "scatter",
           "x": {
            "bdata": "CgsPEBE=",
            "dtype": "i1"
           },
           "y": {
            "bdata": "AAESGTE=",
            "dtype": "i1"
           }
          },
          {
           "line": {
            "width": 2
           },
           "mode": "lines+markers",
           "name": "user_2",
           "type": "scatter",
           "x": {
            "bdata": "CgsMEBE=",
            "dtype": "i1"
           },
           "y": {
            "bdata": "ADk6Pko=",
            "dtype": "i1"
           }
          },
          {
           "line": {
            "width": 2
           },
           "mode": "lines+markers",
           "name": "user_3",
           "type": "scatter",
           "x": {
            "bdata": "DA0ODxAR",
            "dtype": "i1"
           },
           "y": {
            "bdata": "AAEcHR82",
            "dtype": "i1"
           }
          },
          {
           "line": {
            "width": 2
           },
           "mode": "lines+markers",
           "name": "user_31",
           "type": "scatter",
           "x": {
            "bdata": "DA0PEQ==",
            "dtype": "i1"
           },
           "y": {
            "bdata": "AAEEBg==",
            "dtype": "i1"
           }
          },
          {
           "line": {
            "width": 2
           },
           "mode": "lines+markers",
           "name": "user_25",
           "type": "scatter",
           "x": {
            "bdata": "DQ4PEBE=",
            "dtype": "i1"
           },
           "y": {
            "bdata": "AAUbHSE=",
            "dtype": "i1"
           }
          },
          {
           "line": {
            "width": 2
           },
           "mode": "lines+markers",
           "name": "user_21",
           "type": "scatter",
           "x": {
            "bdata": "DxA=",
            "dtype": "i1"
           },
           "y": {
            "bdata": "AAc=",
            "dtype": "i1"
           }
          },
          {
           "line": {
            "width": 2
           },
           "mode": "lines+markers",
           "name": "user_26",
           "type": "scatter",
           "x": {
            "bdata": "DxA=",
            "dtype": "i1"
           },
           "y": {
            "bdata": "ACM=",
            "dtype": "i1"
           }
          },
          {
           "line": {
            "width": 2
           },
           "mode": "lines+markers",
           "name": "user_13",
           "type": "scatter",
           "x": {
            "bdata": "EBE=",
            "dtype": "i1"
           },
           "y": {
            "bdata": "AAI=",
            "dtype": "i1"
           }
          },
          {
           "line": {
            "width": 2
           },
           "mode": "lines+markers",
           "name": "user_18",
           "type": "scatter",
           "x": {
            "bdata": "EBE=",
            "dtype": "i1"
           },
           "y": {
            "bdata": "AAc=",
            "dtype": "i1"
           }
          },
          {
           "line": {
            "width": 2
           },
           "mode": "lines+markers",
           "name": "user_20",
           "type": "scatter",
           "x": {
            "bdata": "EBE=",
            "dtype": "i1"
           },
           "y": {
            "bdata": "AAs=",
            "dtype": "i1"
           }
          },
          {
           "line": {
            "width": 2
           },
           "mode": "lines+markers",
           "name": "user_29",
           "type": "scatter",
           "x": {
            "bdata": "EBE=",
            "dtype": "i1"
           },
           "y": {
            "bdata": "AAU=",
            "dtype": "i1"
           }
          },
          {
           "line": {
            "width": 2
           },
           "mode": "lines+markers",
           "name": "user_10",
           "type": "scatter",
           "x": {
            "bdata": "EQ==",
            "dtype": "i1"
           },
           "y": {
            "bdata": "AA==",
            "dtype": "i1"
           }
          },
          {
           "line": {
            "width": 2
           },
           "mode": "lines+markers",
           "name": "user_16",
           "type": "scatter",
           "x": {
            "bdata": "EQ==",
            "dtype": "i1"
           },
           "y": {
            "bdata": "AA==",
            "dtype": "i1"
           }
          },
          {
           "line": {
            "width": 2
           },
           "mode": "lines+markers",
           "name": "user_28",
           "type": "scatter",
           "x": {
            "bdata": "EQ==",
            "dtype": "i1"
           },
           "y": {
            "bdata": "AA==",
            "dtype": "i1"
           }
          }
         ]
        },
        {
         "data": [
          {
           "line": {
            "width": 2
           },
           "mode": "lines+markers",
           "name": "user_4",
           "type": "scatter",
           "x": {
            "bdata": "AAEDBgcJCgsNDhES",
            "dtype": "i1"
           },
           "y": {
            "bdata": "AAcLFBsjMDVHU1d9",
            "dtype": "i1"
           }
          },
          {
           "line": {
            "width": 2
           },
           "mode": "lines+markers",
           "name": "user_17",
           "type": "scatter",
           "x": {
            "bdata": "AQIS",
            "dtype": "i1"
           },
           "y": {
            "bdata": "AAED",
            "dtype": "i1"
           }
          },
          {
           "line": {
            "width": 2
           },
           "mode": "lines+markers",
           "name": "user_30",
           "type": "scatter",
           "x": {
            "bdata": "BAUGCQoNEA==",
            "dtype": "i1"
           },
           "y": {
            "bdata": "AAECBAUMEQ==",
            "dtype": "i1"
           }
          },
          {
           "line": {
            "width": 2
           },
           "mode": "lines+markers",
           "name": "user_11",
           "type": "scatter",
           "x": {
            "bdata": "CAk=",
            "dtype": "i1"
           },
           "y": {
            "bdata": "AAE=",
            "dtype": "i1"
           }
          },
          {
           "line": {
            "width": 2
           },
           "mode": "lines+markers",
           "name": "user_22",
           "type": "scatter",
           "x": {
            "bdata": "CAk=",
            "dtype": "i1"
           },
           "y": {
            "bdata": "AAE=",
            "dtype": "i1"
           }
          },
          {
           "line": {
            "width": 2
           },
           "mode": "lines+markers",
           "name": "user_14",
           "type": "scatter",
           "x": {
            "bdata": "CgsPEBES",
            "dtype": "i1"
           },
           "y": {
            "bdata": "AAESGTFc",
            "dtype": "i1"
           }
          },
          {
           "line": {
            "width": 2
           },
           "mode": "lines+markers",
           "name": "user_2",
           "type": "scatter",
           "x": {
            "bdata": "CgsMEBES",
            "dtype": "i1"
           },
           "y": {
            "bdata": "ADk6PkpO",
            "dtype": "i1"
           }
          },
          {
           "line": {
            "width": 2
           },
           "mode": "lines+markers",
           "name": "user_3",
           "type": "scatter",
           "x": {
            "bdata": "DA0ODxAREg==",
            "dtype": "i1"
           },
           "y": {
            "bdata": "AAEcHR82OA==",
            "dtype": "i1"
           }
          },
          {
           "line": {
            "width": 2
           },
           "mode": "lines+markers",
           "name": "user_31",
           "type": "scatter",
           "x": {
            "bdata": "DA0PEQ==",
            "dtype": "i1"
           },
           "y": {
            "bdata": "AAEEBg==",
            "dtype": "i1"
           }
          },
          {
           "line": {
            "width": 2
           },
           "mode": "lines+markers",
           "name": "user_25",
           "type": "scatter",
           "x": {
            "bdata": "DQ4PEBES",
            "dtype": "i1"
           },
           "y": {
            "bdata": "AAUbHSE2",
            "dtype": "i1"
           }
          },
          {
           "line": {
            "width": 2
           },
           "mode": "lines+markers",
           "name": "user_21",
           "type": "scatter",
           "x": {
            "bdata": "DxA=",
            "dtype": "i1"
           },
           "y": {
            "bdata": "AAc=",
            "dtype": "i1"
           }
          },
          {
           "line": {
            "width": 2
           },
           "mode": "lines+markers",
           "name": "user_26",
           "type": "scatter",
           "x": {
            "bdata": "DxA=",
            "dtype": "i1"
           },
           "y": {
            "bdata": "ACM=",
            "dtype": "i1"
           }
          },
          {
           "line": {
            "width": 2
           },
           "mode": "lines+markers",
           "name": "user_13",
           "type": "scatter",
           "x": {
            "bdata": "EBES",
            "dtype": "i1"
           },
           "y": {
            "bdata": "AAIe",
            "dtype": "i1"
           }
          },
          {
           "line": {
            "width": 2
           },
           "mode": "lines+markers",
           "name": "user_18",
           "type": "scatter",
           "x": {
            "bdata": "EBE=",
            "dtype": "i1"
           },
           "y": {
            "bdata": "AAc=",
            "dtype": "i1"
           }
          },
          {
           "line": {
            "width": 2
           },
           "mode": "lines+markers",
           "name": "user_20",
           "type": "scatter",
           "x": {
            "bdata": "EBE=",
            "dtype": "i1"
           },
           "y": {
            "bdata": "AAs=",
            "dtype": "i1"
           }
          },
          {
           "line": {
            "width": 2
           },
           "mode": "lines+markers",
           "name": "user_29",
           "type": "scatter",
           "x": {
            "bdata": "EBES",
            "dtype": "i1"
           },
           "y": {
            "bdata": "AAUS",
            "dtype": "i1"
           }
          },
          {
           "line": {
            "width": 2
           },
           "mode": "lines+markers",
           "name": "user_10",
           "type": "scatter",
           "x": {
            "bdata": "ERI=",
            "dtype": "i1"
           },
           "y": {
            "bdata": "AAc=",
            "dtype": "i1"
           }
          },
          {
           "line": {
            "width": 2
           },
           "mode": "lines+markers",
           "name": "user_16",
           "type": "scatter",
           "x": {
            "bdata": "ERI=",
            "dtype": "i1"
           },
           "y": {
            "bdata": "AAI=",
            "dtype": "i1"
           }
          },
          {
           "line": {
            "width": 2
           },
           "mode": "lines+markers",
           "name": "user_28",
           "type": "scatter",
           "x": {
            "bdata": "ERI=",
            "dtype": "i1"
           },
           "y": {
            "bdata": "AAI=",
            "dtype": "i1"
           }
          },
          {
           "line": {
            "width": 2
           },
           "mode": "lines+markers",
           "name": "user_24",
           "type": "scatter",
           "x": {
            "bdata": "Eg==",
            "dtype": "i1"
           },
           "y": {
            "bdata": "AA==",
            "dtype": "i1"
           }
          },
          {
           "line": {
            "width": 2
           },
           "mode": "lines+markers",
           "name": "user_6",
           "type": "scatter",
           "x": {
            "bdata": "Eg==",
            "dtype": "i1"
           },
           "y": {
            "bdata": "AA==",
            "dtype": "i1"
           }
          }
         ]
        },
        {
         "data": [
          {
           "line": {
            "width": 2
           },
           "mode": "lines+markers",
           "name": "user_4",
           "type": "scatter",
           "x": {
            "bdata": "AAEDBgcJCgsNDhESEw==",
            "dtype": "i1"
           },
           "y": {
            "bdata": "AAAHAAsAFAAbACMAMAA1AEcAUwBXAH0AiQA=",
            "dtype": "i2"
           }
          },
          {
           "line": {
            "width": 2
           },
           "mode": "lines+markers",
           "name": "user_17",
           "type": "scatter",
           "x": {
            "bdata": "AQIS",
            "dtype": "i1"
           },
           "y": {
            "bdata": "AAED",
            "dtype": "i1"
           }
          },
          {
           "line": {
            "width": 2
           },
           "mode": "lines+markers",
           "name": "user_30",
           "type": "scatter",
           "x": {
            "bdata": "BAUGCQoNEA==",
            "dtype": "i1"
           },
           "y": {
            "bdata": "AAECBAUMEQ==",
            "dtype": "i1"
           }
          },
          {
           "line": {
            "width": 2
           },
           "mode": "lines+markers",
           "name": "user_11",
           "type": "scatter",
           "x": {
            "bdata": "CAk=",
            "dtype": "i1"
           },
           "y": {
            "bdata": "AAE=",
            "dtype": "i1"
           }
          },
          {
           "line": {
            "width": 2
           },
           "mode": "lines+markers",
           "name": "user_22",
           "type": "scatter",
           "x": {
            "bdata": "CAk=",
            "dtype": "i1"
           },
           "y": {
            "bdata": "AAE=",
            "dtype": "i1"
           }
          },
          {
           "line": {
            "width": 2
           },
           "mode": "lines+markers",
           "name": "user_14",
           "type": "scatter",
           "x": {
            "bdata": "CgsPEBES",
            "dtype": "i1"
           },
           "y": {
            "bdata": "AAESGTFc",
            "dtype": "i1"
           }
          },
          {
           "line": {
            "width": 2
           },
           "mode": "lines+markers",
           "name": "user_2",
           "type": "scatter",
           "x": {
            "bdata": "CgsMEBESEw==",
            "dtype": "i1"
           },
           "y": {
            "bdata": "ADk6PkpOXQ==",
            "dtype": "i1"
           }
          },
          {
           "line": {
            "width": 2
           },
           "mode": "lines+markers",
           "name": "user_3",
           "type": "scatter",
           "x": {
            "bdata": "DA0ODxAREg==",
            "dtype": "i1"
           },
           "y": {
            "bdata": "AAEcHR82OA==",
            "dtype": "i1"
           }
          },
          {
           "line": {
            "width": 2
           },
           "mode": "lines+markers",
           "name": "user_31",
           "type": "scatter",
           "x": {
            "bdata": "DA0PEQ==",
            "dtype": "i1"
           },
           "y": {
            "bdata": "AAEEBg==",
            "dtype": "i1"
           }
          },
          {
           "line": {
            "width": 2
           },
           "mode": "lines+markers",
           "name": "user_25",
           "type": "scatter",
           "x": {
            "bdata": "DQ4PEBESEw==",
            "dtype": "i1"
           },
           "y": {
            "bdata": "AAUbHSE2OQ==",
            "dtype": "i1"
           }
          },
          {
           "line": {
            "width": 2
           },
           "mode": "lines+markers",
           "name": "user_21",
           "type": "scatter",
           "x": {
            "bdata": "DxA=",
            "dtype": "i1"
           },
           "y": {
            "bdata": "AAc=",
            "dtype": "i1"
           }
          },
          {
           "line": {
            "width": 2
           },
           "mode": "lines+markers",
           "name": "user_26",
           "type": "scatter",
           "x": {
            "bdata": "DxAT",
            "dtype": "i1"
           },
           "y": {
            "bdata": "ACM0",
            "dtype": "i1"
           }
          },
          {
           "line": {
            "width": 2
           },
           "mode": "lines+markers",
           "name": "user_13",
           "type": "scatter",
           "x": {
            "bdata": "EBES",
            "dtype": "i1"
           },
           "y": {
            "bdata": "AAIe",
            "dtype": "i1"
           }
          },
          {
           "line": {
            "width": 2
           },
           "mode": "lines+markers",
           "name": "user_18",
           "type": "scatter",
           "x": {
            "bdata": "EBET",
            "dtype": "i1"
           },
           "y": {
            "bdata": "AAcI",
            "dtype": "i1"
           }
          },
          {
           "line": {
            "width": 2
           },
           "mode": "lines+markers",
           "name": "user_20",
           "type": "scatter",
           "x": {
            "bdata": "EBE=",
            "dtype": "i1"
           },
           "y": {
            "bdata": "AAs=",
            "dtype": "i1"
           }
          },
          {
           "line": {
            "width": 2
           },
           "mode": "lines+markers",
           "name": "user_29",
           "type": "scatter",
           "x": {
            "bdata": "EBESEw==",
            "dtype": "i1"
           },
           "y": {
            "bdata": "AAUSIg==",
            "dtype": "i1"
           }
          },
          {
           "line": {
            "width": 2
           },
           "mode": "lines+markers",
           "name": "user_10",
           "type": "scatter",
           "x": {
            "bdata": "ERIT",
            "dtype": "i1"
           },
           "y": {
            "bdata": "AAcV",
            "dtype": "i1"
           }
          },
          {
           "line": {
            "width": 2
           },
           "mode": "lines+markers",
           "name": "user_16",
           "type": "scatter",
           "x": {
            "bdata": "ERI=",
            "dtype": "i1"
           },
           "y": {
            "bdata": "AAI=",
            "dtype": "i1"
           }
          },
          {
           "line": {
            "width": 2
           },
           "mode": "lines+markers",
           "name": "user_28",
           "type": "scatter",
           "x": {
            "bdata": "ERIT",
            "dtype": "i1"
           },
           "y": {
            "bdata": "AAIU",
            "dtype": "i1"
           }
          },
          {
           "line": {
            "width": 2
           },
           "mode": "lines+markers",
           "name": "user_24",
           "type": "scatter",
           "x": {
            "bdata": "EhM=",
            "dtype": "i1"
           },
           "y": {
            "bdata": "AAk=",
            "dtype": "i1"
           }
          },
          {
           "line": {
            "width": 2
           },
           "mode": "lines+markers",
           "name": "user_6",
           "type": "scatter",
           "x": {
            "bdata": "EhM=",
            "dtype": "i1"
           },
           "y": {
            "bdata": "AAE=",
            "dtype": "i1"
           }
          },
          {
           "line": {
            "width": 2
           },
           "mode": "lines+markers",
           "name": "user_1",
           "type": "scatter",
           "x": {
            "bdata": "Ew==",
            "dtype": "i1"
           },
           "y": {
            "bdata": "AA==",
            "dtype": "i1"
           }
          },
          {
           "line": {
            "width": 2
           },
           "mode": "lines+markers",
           "name": "user_12",
           "type": "scatter",
           "x": {
            "bdata": "Ew==",
            "dtype": "i1"
           },
           "y": {
            "bdata": "AA==",
            "dtype": "i1"
           }
          },
          {
           "line": {
            "width": 2
           },
           "mode": "lines+markers",
           "name": "user_15",
           "type": "scatter",
           "x": {
            "bdata": "Ew==",
            "dtype": "i1"
           },
           "y": {
            "bdata": "AA==",
            "dtype": "i1"
           }
          },
          {
           "line": {
            "width": 2
           },
           "mode": "lines+markers",
           "name": "user_19",
           "type": "scatter",
           "x": {
            "bdata": "Ew==",
            "dtype": "i1"
           },
           "y": {
            "bdata": "AA==",
            "dtype": "i1"
           }
          },
          {
           "line": {
            "width": 2
           },
           "mode": "lines+markers",
           "name": "user_27",
           "type": "scatter",
           "x": {
            "bdata": "Ew==",
            "dtype": "i1"
           },
           "y": {
            "bdata": "AA==",
            "dtype": "i1"
           }
          },
          {
           "line": {
            "width": 2
           },
           "mode": "lines+markers",
           "name": "user_8",
           "type": "scatter",
           "x": {
            "bdata": "Ew==",
            "dtype": "i1"
           },
           "y": {
            "bdata": "AA==",
            "dtype": "i1"
           }
          }
         ]
        },
        {
         "data": [
          {
           "line": {
            "width": 2
           },
           "mode": "lines+markers",
           "name": "user_4",
           "type": "scatter",
           "x": {
            "bdata": "AAEDBgcJCgsNDhESExQ=",
            "dtype": "i1"
           },
           "y": {
            "bdata": "AAAHAAsAFAAbACMAMAA1AEcAUwBXAH0AiQCkAA==",
            "dtype": "i2"
           }
          },
          {
           "line": {
            "width": 2
           },
           "mode": "lines+markers",
           "name": "user_17",
           "type": "scatter",
           "x": {
            "bdata": "AQISFA==",
            "dtype": "i1"
           },
           "y": {
            "bdata": "AAEDBQ==",
            "dtype": "i1"
           }
          },
          {
           "line": {
            "width": 2
           },
           "mode": "lines+markers",
           "name": "user_30",
           "type": "scatter",
           "x": {
            "bdata": "BAUGCQoNEBQ=",
            "dtype": "i1"
           },
           "y": {
            "bdata": "AAECBAUMERM=",
            "dtype": "i1"
           }
          },
          {
           "line": {
            "width": 2
           },
           "mode": "lines+markers",
           "name": "user_11",
           "type": "scatter",
           "x": {
            "bdata": "CAk=",
            "dtype": "i1"
           },
           "y": {
            "bdata": "AAE=",
            "dtype": "i1"
           }
          },
          {
           "line": {
            "width": 2
           },
           "mode": "lines+markers",
           "name": "user_22",
           "type": "scatter",
           "x": {
            "bdata": "CAkU",
            "dtype": "i1"
           },
           "y": {
            "bdata": "AAEC",
            "dtype": "i1"
           }
          },
          {
           "line": {
            "width": 2
           },
           "mode": "lines+markers",
           "name": "user_14",
           "type": "scatter",
           "x": {
            "bdata": "CgsPEBESFA==",
            "dtype": "i1"
           },
           "y": {
            "bdata": "AAESGTFcYw==",
            "dtype": "i1"
           }
          },
          {
           "line": {
            "width": 2
           },
           "mode": "lines+markers",
           "name": "user_2",
           "type": "scatter",
           "x": {
            "bdata": "CgsMEBESExQ=",
            "dtype": "i1"
           },
           "y": {
            "bdata": "ADk6PkpOXV8=",
            "dtype": "i1"
           }
          },
          {
           "line": {
            "width": 2
           },
           "mode": "lines+markers",
           "name": "user_3",
           "type": "scatter",
           "x": {
            "bdata": "DA0ODxAREhQ=",
            "dtype": "i1"
           },
           "y": {
            "bdata": "AAEcHR82ODo=",
            "dtype": "i1"
           }
          },
          {
           "line": {
            "width": 2
           },
           "mode": "lines+markers",
           "name": "user_31",
           "type": "scatter",
           "x": {
            "bdata": "DA0PERQ=",
            "dtype": "i1"
           },
           "y": {
            "bdata": "AAEEBgg=",
            "dtype": "i1"
           }
          },
          {
           "line": {
            "width": 2
           },
           "mode": "lines+markers",
           "name": "user_25",
           "type": "scatter",
           "x": {
            "bdata": "DQ4PEBESExQ=",
            "dtype": "i1"
           },
           "y": {
            "bdata": "AAUbHSE2OU0=",
            "dtype": "i1"
           }
          },
          {
           "line": {
            "width": 2
           },
           "mode": "lines+markers",
           "name": "user_21",
           "type": "scatter",
           "x": {
            "bdata": "DxAU",
            "dtype": "i1"
           },
           "y": {
            "bdata": "AAcJ",
            "dtype": "i1"
           }
          },
          {
           "line": {
            "width": 2
           },
           "mode": "lines+markers",
           "name": "user_26",
           "type": "scatter",
           "x": {
            "bdata": "DxATFA==",
            "dtype": "i1"
           },
           "y": {
            "bdata": "ACM0RQ==",
            "dtype": "i1"
           }
          },
          {
           "line": {
            "width": 2
           },
           "mode": "lines+markers",
           "name": "user_13",
           "type": "scatter",
           "x": {
            "bdata": "EBESFA==",
            "dtype": "i1"
           },
           "y": {
            "bdata": "AAIeIA==",
            "dtype": "i1"
           }
          },
          {
           "line": {
            "width": 2
           },
           "mode": "lines+markers",
           "name": "user_18",
           "type": "scatter",
           "x": {
            "bdata": "EBETFA==",
            "dtype": "i1"
           },
           "y": {
            "bdata": "AAcIHw==",
            "dtype": "i1"
           }
          },
          {
           "line": {
            "width": 2
           },
           "mode": "lines+markers",
           "name": "user_20",
           "type": "scatter",
           "x": {
            "bdata": "EBEU",
            "dtype": "i1"
           },
           "y": {
            "bdata": "AAs2",
            "dtype": "i1"
           }
          },
          {
           "line": {
            "width": 2
           },
           "mode": "lines+markers",
           "name": "user_29",
           "type": "scatter",
           "x": {
            "bdata": "EBESExQ=",
            "dtype": "i1"
           },
           "y": {
            "bdata": "AAUSIiM=",
            "dtype": "i1"
           }
          },
          {
           "line": {
            "width": 2
           },
           "mode": "lines+markers",
           "name": "user_10",
           "type": "scatter",
           "x": {
            "bdata": "ERITFA==",
            "dtype": "i1"
           },
           "y": {
            "bdata": "AAcVOg==",
            "dtype": "i1"
           }
          },
          {
           "line": {
            "width": 2
           },
           "mode": "lines+markers",
           "name": "user_16",
           "type": "scatter",
           "x": {
            "bdata": "ERIU",
            "dtype": "i1"
           },
           "y": {
            "bdata": "AAIJ",
            "dtype": "i1"
           }
          },
          {
           "line": {
            "width": 2
           },
           "mode": "lines+markers",
           "name": "user_28",
           "type": "scatter",
           "x": {
            "bdata": "ERITFA==",
            "dtype": "i1"
           },
           "y": {
            "bdata": "AAIUGg==",
            "dtype": "i1"
           }
          },
          {
           "line": {
            "width": 2
           },
           "mode": "lines+markers",
           "name": "user_24",
           "type": "scatter",
           "x": {
            "bdata": "EhMU",
            "dtype": "i1"
           },
           "y": {
            "bdata": "AAki",
            "dtype": "i1"
           }
          },
          {
           "line": {
            "width": 2
           },
           "mode": "lines+markers",
           "name": "user_6",
           "type": "scatter",
           "x": {
            "bdata": "EhMU",
            "dtype": "i1"
           },
           "y": {
            "bdata": "AAEC",
            "dtype": "i1"
           }
          },
          {
           "line": {
            "width": 2
           },
           "mode": "lines+markers",
           "name": "user_1",
           "type": "scatter",
           "x": {
            "bdata": "ExQ=",
            "dtype": "i1"
           },
           "y": {
            "bdata": "AAs=",
            "dtype": "i1"
           }
          },
          {
           "line": {
            "width": 2
           },
           "mode": "lines+markers",
           "name": "user_12",
           "type": "scatter",
           "x": {
            "bdata": "ExQ=",
            "dtype": "i1"
           },
           "y": {
            "bdata": "AAQ=",
            "dtype": "i1"
           }
          },
          {
           "line": {
            "width": 2
           },
           "mode": "lines+markers",
           "name": "user_15",
           "type": "scatter",
           "x": {
            "bdata": "ExQ=",
            "dtype": "i1"
           },
           "y": {
            "bdata": "AAM=",
            "dtype": "i1"
           }
          },
          {
           "line": {
            "width": 2
           },
           "mode": "lines+markers",
           "name": "user_19",
           "type": "scatter",
           "x": {
            "bdata": "ExQ=",
            "dtype": "i1"
           },
           "y": {
            "bdata": "ABk=",
            "dtype": "i1"
           }
          },
          {
           "line": {
            "width": 2
           },
           "mode": "lines+markers",
           "name": "user_27",
           "type": "scatter",
           "x": {
            "bdata": "ExQ=",
            "dtype": "i1"
           },
           "y": {
            "bdata": "AAg=",
            "dtype": "i1"
           }
          },
          {
           "line": {
            "width": 2
           },
           "mode": "lines+markers",
           "name": "user_8",
           "type": "scatter",
           "x": {
            "bdata": "ExQ=",
            "dtype": "i1"
           },
           "y": {
            "bdata": "AAg=",
            "dtype": "i1"
           }
          }
         ]
        },
        {
         "data": [
          {
           "line": {
            "width": 2
           },
           "mode": "lines+markers",
           "name": "user_4",
           "type": "scatter",
           "x": {
            "bdata": "AAEDBgcJCgsNDhESExQV",
            "dtype": "i1"
           },
           "y": {
            "bdata": "AAAHAAsAFAAbACMAMAA1AEcAUwBXAH0AiQCkAKQA",
            "dtype": "i2"
           }
          },
          {
           "line": {
            "width": 2
           },
           "mode": "lines+markers",
           "name": "user_17",
           "type": "scatter",
           "x": {
            "bdata": "AQISFBU=",
            "dtype": "i1"
           },
           "y": {
            "bdata": "AAEDBQU=",
            "dtype": "i1"
           }
          },
          {
           "line": {
            "width": 2
           },
           "mode": "lines+markers",
           "name": "user_30",
           "type": "scatter",
           "x": {
            "bdata": "BAUGCQoNEBQV",
            "dtype": "i1"
           },
           "y": {
            "bdata": "AAECBAUMERMT",
            "dtype": "i1"
           }
          },
          {
           "line": {
            "width": 2
           },
           "mode": "lines+markers",
           "name": "user_11",
           "type": "scatter",
           "x": {
            "bdata": "CAkV",
            "dtype": "i1"
           },
           "y": {
            "bdata": "AAEB",
            "dtype": "i1"
           }
          },
          {
           "line": {
            "width": 2
           },
           "mode": "lines+markers",
           "name": "user_22",
           "type": "scatter",
           "x": {
            "bdata": "CAkUFQ==",
            "dtype": "i1"
           },
           "y": {
            "bdata": "AAECAg==",
            "dtype": "i1"
           }
          },
          {
           "line": {
            "width": 2
           },
           "mode": "lines+markers",
           "name": "user_14",
           "type": "scatter",
           "x": {
            "bdata": "CgsPEBESFBU=",
            "dtype": "i1"
           },
           "y": {
            "bdata": "AAESGTFcY2M=",
            "dtype": "i1"
           }
          },
          {
           "line": {
            "width": 2
           },
           "mode": "lines+markers",
           "name": "user_2",
           "type": "scatter",
           "x": {
            "bdata": "CgsMEBESExQV",
            "dtype": "i1"
           },
           "y": {
            "bdata": "ADk6PkpOXV9f",
            "dtype": "i1"
           }
          },
          {
           "line": {
            "width": 2
           },
           "mode": "lines+markers",
           "name": "user_3",
           "type": "scatter",
           "x": {
            "bdata": "DA0ODxAREhQV",
            "dtype": "i1"
           },
           "y": {
            "bdata": "AAEcHR82ODo6",
            "dtype": "i1"
           }
          },
          {
           "line": {
            "width": 2
           },
           "mode": "lines+markers",
           "name": "user_31",
           "type": "scatter",
           "x": {
            "bdata": "DA0PERQV",
            "dtype": "i1"
           },
           "y": {
            "bdata": "AAEEBggI",
            "dtype": "i1"
           }
          },
          {
           "line": {
            "width": 2
           },
           "mode": "lines+markers",
           "name": "user_25",
           "type": "scatter",
           "x": {
            "bdata": "DQ4PEBESExQV",
            "dtype": "i1"
           },
           "y": {
            "bdata": "AAUbHSE2OU1N",
            "dtype": "i1"
           }
          },
          {
           "line": {
            "width": 2
           },
           "mode": "lines+markers",
           "name": "user_21",
           "type": "scatter",
           "x": {
            "bdata": "DxAUFQ==",
            "dtype": "i1"
           },
           "y": {
            "bdata": "AAcJCQ==",
            "dtype": "i1"
           }
          },
          {
           "line": {
            "width": 2
           },
           "mode": "lines+markers",
           "name": "user_26",
           "type": "scatter",
           "x": {
            "bdata": "DxATFBU=",
            "dtype": "i1"
           },
           "y": {
            "bdata": "ACM0RUU=",
            "dtype": "i1"
           }
          },
          {
           "line": {
            "width": 2
           },
           "mode": "lines+markers",
           "name": "user_13",
           "type": "scatter",
           "x": {
            "bdata": "EBESFBU=",
            "dtype": "i1"
           },
           "y": {
            "bdata": "AAIeICA=",
            "dtype": "i1"
           }
          },
          {
           "line": {
            "width": 2
           },
           "mode": "lines+markers",
           "name": "user_18",
           "type": "scatter",
           "x": {
            "bdata": "EBETFBU=",
            "dtype": "i1"
           },
           "y": {
            "bdata": "AAcIHx8=",
            "dtype": "i1"
           }
          },
          {
           "line": {
            "width": 2
           },
           "mode": "lines+markers",
           "name": "user_20",
           "type": "scatter",
           "x": {
            "bdata": "EBEUFQ==",
            "dtype": "i1"
           },
           "y": {
            "bdata": "AAs2Ng==",
            "dtype": "i1"
           }
          },
          {
           "line": {
            "width": 2
           },
           "mode": "lines+markers",
           "name": "user_29",
           "type": "scatter",
           "x": {
            "bdata": "EBESExQV",
            "dtype": "i1"
           },
           "y": {
            "bdata": "AAUSIiMj",
            "dtype": "i1"
           }
          },
          {
           "line": {
            "width": 2
           },
           "mode": "lines+markers",
           "name": "user_10",
           "type": "scatter",
           "x": {
            "bdata": "ERITFBU=",
            "dtype": "i1"
           },
           "y": {
            "bdata": "AAcVOjo=",
            "dtype": "i1"
           }
          },
          {
           "line": {
            "width": 2
           },
           "mode": "lines+markers",
           "name": "user_16",
           "type": "scatter",
           "x": {
            "bdata": "ERIUFQ==",
            "dtype": "i1"
           },
           "y": {
            "bdata": "AAIJCQ==",
            "dtype": "i1"
           }
          },
          {
           "line": {
            "width": 2
           },
           "mode": "lines+markers",
           "name": "user_28",
           "type": "scatter",
           "x": {
            "bdata": "ERITFBUV",
            "dtype": "i1"
           },
           "y": {
            "bdata": "AAIUGhsb",
            "dtype": "i1"
           }
          },
          {
           "line": {
            "width": 2
           },
           "mode": "lines+markers",
           "name": "user_24",
           "type": "scatter",
           "x": {
            "bdata": "EhMUFQ==",
            "dtype": "i1"
           },
           "y": {
            "bdata": "AAkiIg==",
            "dtype": "i1"
           }
          },
          {
           "line": {
            "width": 2
           },
           "mode": "lines+markers",
           "name": "user_6",
           "type": "scatter",
           "x": {
            "bdata": "EhMUFQ==",
            "dtype": "i1"
           },
           "y": {
            "bdata": "AAECAg==",
            "dtype": "i1"
           }
          },
          {
           "line": {
            "width": 2
           },
           "mode": "lines+markers",
           "name": "user_1",
           "type": "scatter",
           "x": {
            "bdata": "ExQV",
            "dtype": "i1"
           },
           "y": {
            "bdata": "AAsL",
            "dtype": "i1"
           }
          },
          {
           "line": {
            "width": 2
           },
           "mode": "lines+markers",
           "name": "user_12",
           "type": "scatter",
           "x": {
            "bdata": "ExQV",
            "dtype": "i1"
           },
           "y": {
            "bdata": "AAQE",
            "dtype": "i1"
           }
          },
          {
           "line": {
            "width": 2
           },
           "mode": "lines+markers",
           "name": "user_15",
           "type": "scatter",
           "x": {
            "bdata": "ExQV",
            "dtype": "i1"
           },
           "y": {
            "bdata": "AAMD",
            "dtype": "i1"
           }
          },
          {
           "line": {
            "width": 2
           },
           "mode": "lines+markers",
           "name": "user_19",
           "type": "scatter",
           "x": {
            "bdata": "ExQVFQ==",
            "dtype": "i1"
           },
           "y": {
            "bdata": "ABkdHQ==",
            "dtype": "i1"
           }
          },
          {
           "line": {
            "width": 2
           },
           "mode": "lines+markers",
           "name": "user_27",
           "type": "scatter",
           "x": {
            "bdata": "ExQV",
            "dtype": "i1"
           },
           "y": {
            "bdata": "AAgI",
            "dtype": "i1"
           }
          },
          {
           "line": {
            "width": 2
           },
           "mode": "lines+markers",
           "name": "user_8",
           "type": "scatter",
           "x": {
            "bdata": "ExQV",
            "dtype": "i1"
           },
           "y": {
            "bdata": "AAgI",
            "dtype": "i1"
           }
          }
         ]
        }
       ],
       "layout": {
        "paper_bgcolor": "#fff0f0",
        "template": {
         "data": {
          "bar": [
           {
            "error_x": {
             "color": "#2a3f5f"
            },
            "error_y": {
             "color": "#2a3f5f"
            },
            "marker": {
             "line": {
              "color": "#E5ECF6",
              "width": 0.5
             },
             "pattern": {
              "fillmode": "overlay",
              "size": 10,
              "solidity": 0.2
             }
            },
            "type": "bar"
           }
          ],
          "barpolar": [
           {
            "marker": {
             "line": {
              "color": "#E5ECF6",
              "width": 0.5
             },
             "pattern": {
              "fillmode": "overlay",
              "size": 10,
              "solidity": 0.2
             }
            },
            "type": "barpolar"
           }
          ],
          "carpet": [
           {
            "aaxis": {
             "endlinecolor": "#2a3f5f",
             "gridcolor": "white",
             "linecolor": "white",
             "minorgridcolor": "white",
             "startlinecolor": "#2a3f5f"
            },
            "baxis": {
             "endlinecolor": "#2a3f5f",
             "gridcolor": "white",
             "linecolor": "white",
             "minorgridcolor": "white",
             "startlinecolor": "#2a3f5f"
            },
            "type": "carpet"
           }
          ],
          "choropleth": [
           {
            "colorbar": {
             "outlinewidth": 0,
             "ticks": ""
            },
            "type": "choropleth"
           }
          ],
          "contour": [
           {
            "colorbar": {
             "outlinewidth": 0,
             "ticks": ""
            },
            "colorscale": [
             [
              0,
              "#0d0887"
             ],
             [
              0.1111111111111111,
              "#46039f"
             ],
             [
              0.2222222222222222,
              "#7201a8"
             ],
             [
              0.3333333333333333,
              "#9c179e"
             ],
             [
              0.4444444444444444,
              "#bd3786"
             ],
             [
              0.5555555555555556,
              "#d8576b"
             ],
             [
              0.6666666666666666,
              "#ed7953"
             ],
             [
              0.7777777777777778,
              "#fb9f3a"
             ],
             [
              0.8888888888888888,
              "#fdca26"
             ],
             [
              1,
              "#f0f921"
             ]
            ],
            "type": "contour"
           }
          ],
          "contourcarpet": [
           {
            "colorbar": {
             "outlinewidth": 0,
             "ticks": ""
            },
            "type": "contourcarpet"
           }
          ],
          "heatmap": [
           {
            "colorbar": {
             "outlinewidth": 0,
             "ticks": ""
            },
            "colorscale": [
             [
              0,
              "#0d0887"
             ],
             [
              0.1111111111111111,
              "#46039f"
             ],
             [
              0.2222222222222222,
              "#7201a8"
             ],
             [
              0.3333333333333333,
              "#9c179e"
             ],
             [
              0.4444444444444444,
              "#bd3786"
             ],
             [
              0.5555555555555556,
              "#d8576b"
             ],
             [
              0.6666666666666666,
              "#ed7953"
             ],
             [
              0.7777777777777778,
              "#fb9f3a"
             ],
             [
              0.8888888888888888,
              "#fdca26"
             ],
             [
              1,
              "#f0f921"
             ]
            ],
            "type": "heatmap"
           }
          ],
          "histogram": [
           {
            "marker": {
             "pattern": {
              "fillmode": "overlay",
              "size": 10,
              "solidity": 0.2
             }
            },
            "type": "histogram"
           }
          ],
          "histogram2d": [
           {
            "colorbar": {
             "outlinewidth": 0,
             "ticks": ""
            },
            "colorscale": [
             [
              0,
              "#0d0887"
             ],
             [
              0.1111111111111111,
              "#46039f"
             ],
             [
              0.2222222222222222,
              "#7201a8"
             ],
             [
              0.3333333333333333,
              "#9c179e"
             ],
             [
              0.4444444444444444,
              "#bd3786"
             ],
             [
              0.5555555555555556,
              "#d8576b"
             ],
             [
              0.6666666666666666,
              "#ed7953"
             ],
             [
              0.7777777777777778,
              "#fb9f3a"
             ],
             [
              0.8888888888888888,
              "#fdca26"
             ],
             [
              1,
              "#f0f921"
             ]
            ],
            "type": "histogram2d"
           }
          ],
          "histogram2dcontour": [
           {
            "colorbar": {
             "outlinewidth": 0,
             "ticks": ""
            },
            "colorscale": [
             [
              0,
              "#0d0887"
             ],
             [
              0.1111111111111111,
              "#46039f"
             ],
             [
              0.2222222222222222,
              "#7201a8"
             ],
             [
              0.3333333333333333,
              "#9c179e"
             ],
             [
              0.4444444444444444,
              "#bd3786"
             ],
             [
              0.5555555555555556,
              "#d8576b"
             ],
             [
              0.6666666666666666,
              "#ed7953"
             ],
             [
              0.7777777777777778,
              "#fb9f3a"
             ],
             [
              0.8888888888888888,
              "#fdca26"
             ],
             [
              1,
              "#f0f921"
             ]
            ],
            "type": "histogram2dcontour"
           }
          ],
          "mesh3d": [
           {
            "colorbar": {
             "outlinewidth": 0,
             "ticks": ""
            },
            "type": "mesh3d"
           }
          ],
          "parcoords": [
           {
            "line": {
             "colorbar": {
              "outlinewidth": 0,
              "ticks": ""
             }
            },
            "type": "parcoords"
           }
          ],
          "pie": [
           {
            "automargin": true,
            "type": "pie"
           }
          ],
          "scatter": [
           {
            "fillpattern": {
             "fillmode": "overlay",
             "size": 10,
             "solidity": 0.2
            },
            "type": "scatter"
           }
          ],
          "scatter3d": [
           {
            "line": {
             "colorbar": {
              "outlinewidth": 0,
              "ticks": ""
             }
            },
            "marker": {
             "colorbar": {
              "outlinewidth": 0,
              "ticks": ""
             }
            },
            "type": "scatter3d"
           }
          ],
          "scattercarpet": [
           {
            "marker": {
             "colorbar": {
              "outlinewidth": 0,
              "ticks": ""
             }
            },
            "type": "scattercarpet"
           }
          ],
          "scattergeo": [
           {
            "marker": {
             "colorbar": {
              "outlinewidth": 0,
              "ticks": ""
             }
            },
            "type": "scattergeo"
           }
          ],
          "scattergl": [
           {
            "marker": {
             "colorbar": {
              "outlinewidth": 0,
              "ticks": ""
             }
            },
            "type": "scattergl"
           }
          ],
          "scattermap": [
           {
            "marker": {
             "colorbar": {
              "outlinewidth": 0,
              "ticks": ""
             }
            },
            "type": "scattermap"
           }
          ],
          "scattermapbox": [
           {
            "marker": {
             "colorbar": {
              "outlinewidth": 0,
              "ticks": ""
             }
            },
            "type": "scattermapbox"
           }
          ],
          "scatterpolar": [
           {
            "marker": {
             "colorbar": {
              "outlinewidth": 0,
              "ticks": ""
             }
            },
            "type": "scatterpolar"
           }
          ],
          "scatterpolargl": [
           {
            "marker": {
             "colorbar": {
              "outlinewidth": 0,
              "ticks": ""
             }
            },
            "type": "scatterpolargl"
           }
          ],
          "scatterternary": [
           {
            "marker": {
             "colorbar": {
              "outlinewidth": 0,
              "ticks": ""
             }
            },
            "type": "scatterternary"
           }
          ],
          "surface": [
           {
            "colorbar": {
             "outlinewidth": 0,
             "ticks": ""
            },
            "colorscale": [
             [
              0,
              "#0d0887"
             ],
             [
              0.1111111111111111,
              "#46039f"
             ],
             [
              0.2222222222222222,
              "#7201a8"
             ],
             [
              0.3333333333333333,
              "#9c179e"
             ],
             [
              0.4444444444444444,
              "#bd3786"
             ],
             [
              0.5555555555555556,
              "#d8576b"
             ],
             [
              0.6666666666666666,
              "#ed7953"
             ],
             [
              0.7777777777777778,
              "#fb9f3a"
             ],
             [
              0.8888888888888888,
              "#fdca26"
             ],
             [
              1,
              "#f0f921"
             ]
            ],
            "type": "surface"
           }
          ],
          "table": [
           {
            "cells": {
             "fill": {
              "color": "#EBF0F8"
             },
             "line": {
              "color": "white"
             }
            },
            "header": {
             "fill": {
              "color": "#C8D4E3"
             },
             "line": {
              "color": "white"
             }
            },
            "type": "table"
           }
          ]
         },
         "layout": {
          "annotationdefaults": {
           "arrowcolor": "#2a3f5f",
           "arrowhead": 0,
           "arrowwidth": 1
          },
          "autotypenumbers": "strict",
          "coloraxis": {
           "colorbar": {
            "outlinewidth": 0,
            "ticks": ""
           }
          },
          "colorscale": {
           "diverging": [
            [
             0,
             "#8e0152"
            ],
            [
             0.1,
             "#c51b7d"
            ],
            [
             0.2,
             "#de77ae"
            ],
            [
             0.3,
             "#f1b6da"
            ],
            [
             0.4,
             "#fde0ef"
            ],
            [
             0.5,
             "#f7f7f7"
            ],
            [
             0.6,
             "#e6f5d0"
            ],
            [
             0.7,
             "#b8e186"
            ],
            [
             0.8,
             "#7fbc41"
            ],
            [
             0.9,
             "#4d9221"
            ],
            [
             1,
             "#276419"
            ]
           ],
           "sequential": [
            [
             0,
             "#0d0887"
            ],
            [
             0.1111111111111111,
             "#46039f"
            ],
            [
             0.2222222222222222,
             "#7201a8"
            ],
            [
             0.3333333333333333,
             "#9c179e"
            ],
            [
             0.4444444444444444,
             "#bd3786"
            ],
            [
             0.5555555555555556,
             "#d8576b"
            ],
            [
             0.6666666666666666,
             "#ed7953"
            ],
            [
             0.7777777777777778,
             "#fb9f3a"
            ],
            [
             0.8888888888888888,
             "#fdca26"
            ],
            [
             1,
             "#f0f921"
            ]
           ],
           "sequentialminus": [
            [
             0,
             "#0d0887"
            ],
            [
             0.1111111111111111,
             "#46039f"
            ],
            [
             0.2222222222222222,
             "#7201a8"
            ],
            [
             0.3333333333333333,
             "#9c179e"
            ],
            [
             0.4444444444444444,
             "#bd3786"
            ],
            [
             0.5555555555555556,
             "#d8576b"
            ],
            [
             0.6666666666666666,
             "#ed7953"
            ],
            [
             0.7777777777777778,
             "#fb9f3a"
            ],
            [
             0.8888888888888888,
             "#fdca26"
            ],
            [
             1,
             "#f0f921"
            ]
           ]
          },
          "colorway": [
           "#636efa",
           "#EF553B",
           "#00cc96",
           "#ab63fa",
           "#FFA15A",
           "#19d3f3",
           "#FF6692",
           "#B6E880",
           "#FF97FF",
           "#FECB52"
          ],
          "font": {
           "color": "#2a3f5f"
          },
          "geo": {
           "bgcolor": "white",
           "lakecolor": "white",
           "landcolor": "#E5ECF6",
           "showlakes": true,
           "showland": true,
           "subunitcolor": "white"
          },
          "hoverlabel": {
           "align": "left"
          },
          "hovermode": "closest",
          "mapbox": {
           "style": "light"
          },
          "paper_bgcolor": "white",
          "plot_bgcolor": "#E5ECF6",
          "polar": {
           "angularaxis": {
            "gridcolor": "white",
            "linecolor": "white",
            "ticks": ""
           },
           "bgcolor": "#E5ECF6",
           "radialaxis": {
            "gridcolor": "white",
            "linecolor": "white",
            "ticks": ""
           }
          },
          "scene": {
           "xaxis": {
            "backgroundcolor": "#E5ECF6",
            "gridcolor": "white",
            "gridwidth": 2,
            "linecolor": "white",
            "showbackground": true,
            "ticks": "",
            "zerolinecolor": "white"
           },
           "yaxis": {
            "backgroundcolor": "#E5ECF6",
            "gridcolor": "white",
            "gridwidth": 2,
            "linecolor": "white",
            "showbackground": true,
            "ticks": "",
            "zerolinecolor": "white"
           },
           "zaxis": {
            "backgroundcolor": "#E5ECF6",
            "gridcolor": "white",
            "gridwidth": 2,
            "linecolor": "white",
            "showbackground": true,
            "ticks": "",
            "zerolinecolor": "white"
           }
          },
          "shapedefaults": {
           "line": {
            "color": "#2a3f5f"
           }
          },
          "ternary": {
           "aaxis": {
            "gridcolor": "white",
            "linecolor": "white",
            "ticks": ""
           },
           "baxis": {
            "gridcolor": "white",
            "linecolor": "white",
            "ticks": ""
           },
           "bgcolor": "#E5ECF6",
           "caxis": {
            "gridcolor": "white",
            "linecolor": "white",
            "ticks": ""
           }
          },
          "title": {
           "x": 0.05
          },
          "xaxis": {
           "automargin": true,
           "gridcolor": "white",
           "linecolor": "white",
           "ticks": "",
           "title": {
            "standoff": 15
           },
           "zerolinecolor": "white",
           "zerolinewidth": 2
          },
          "yaxis": {
           "automargin": true,
           "gridcolor": "white",
           "linecolor": "white",
           "ticks": "",
           "title": {
            "standoff": 15
           },
           "zerolinecolor": "white",
           "zerolinewidth": 2
          }
         }
        },
        "title": {
         "text": "Dynamic of commits per user in project1"
        },
        "updatemenus": [
         {
          "buttons": [
           {
            "args": [
             null,
             {
              "frame": {
               "duration": 500,
               "redraw": true
              }
             }
            ],
            "label": "Play",
            "method": "animate"
           }
          ],
          "type": "buttons"
         }
        ],
        "xaxis": {
         "dtick": 2,
         "range": [
          1,
          21.5
         ]
        },
        "yaxis": {
         "dtick": 20,
         "range": [
          0,
          170
         ]
        }
       }
      }
     },
     "metadata": {},
     "output_type": "display_data"
    }
   ],
   "source": [
    "import plotly.graph_objects as go\n",
    "import pandas as pd\n",
    "import numpy as np\n",
    "\n",
    "users = df['uid'].unique()\n",
    "\n",
    "date_mapping = {date: i for i, date in enumerate(sorted(df['date'].unique()))}\n",
    "df['day_num'] = df['date'].map(date_mapping)\n",
    "all_dates = df['day_num'].unique()\n",
    "numFrames = len(all_dates)\n",
    "DARKGRID_COLORS = {\n",
    "    'background': '#fff0f0',  # #EAEAF2\n",
    "    'grid': '#FFFFFF',\n",
    "}\n",
    "\n",
    "\n",
    "initial_data = []\n",
    "for user in users:\n",
    "    user_data = df[df['uid'] == user]\n",
    "    initial_point = user_data[user_data['day_num'] == all_dates[0]]\n",
    "    initial_data.append(\n",
    "        go.Scatter(\n",
    "            x=[all_dates[0]],\n",
    "            y=initial_point['cum_commits'],\n",
    "            mode='lines+markers', \n",
    "            name=user,\n",
    "            line=dict(width=2)\n",
    "        )\n",
    "    )\n",
    "\n",
    "frames = []\n",
    "for i in range(1, numFrames):\n",
    "    current_date = all_dates[i]\n",
    "    frame_data = []\n",
    "    for user in users:\n",
    "        user_data = df[(df['uid'] == user) & (df['day_num'] <= current_date)]\n",
    "        if not user_data.empty:\n",
    "            frame_data.append(\n",
    "                go.Scatter(\n",
    "                    x=user_data['day_num'],\n",
    "                    y=user_data['cum_commits'],\n",
    "                    mode='lines+markers',\n",
    "                    name=user,\n",
    "                    line=dict(width=2)\n",
    "                )\n",
    "            )\n",
    "    frames.append(go.Frame(data=frame_data))\n",
    "\n",
    "\n",
    "fig = go.Figure(\n",
    "    data=initial_data,\n",
    "    layout=go.Layout(\n",
    "        title=dict(\n",
    "            text='Dynamic of commits per user in project1',\n",
    "        ),\n",
    "        xaxis=dict(\n",
    "            range=[1,21.5],\n",
    "            dtick=2,\n",
    "        ),\n",
    "        yaxis=dict(\n",
    "            range=[0, 170],\n",
    "            dtick=20\n",
    "        ),\n",
    "        paper_bgcolor=DARKGRID_COLORS['background'],\n",
    "        updatemenus=[dict(\n",
    "            type=\"buttons\",\n",
    "            buttons=[dict(\n",
    "                label=\"Play\",\n",
    "                method=\"animate\",\n",
    "                args=[None, {\"frame\": {\"duration\": 500, \"redraw\": True}}]\n",
    "            )]\n",
    "        ),]\n",
    "    ),\n",
    "    frames=frames\n",
    ")\n",
    "\n",
    "fig.show()"
   ]
  },
  {
   "cell_type": "code",
   "execution_count": 11,
   "id": "a20f73b3",
   "metadata": {},
   "outputs": [],
   "source": [
    "con.close()"
   ]
  }
 ],
 "metadata": {
  "kernelspec": {
   "display_name": "Python 3",
   "language": "python",
   "name": "python3"
  },
  "language_info": {
   "codemirror_mode": {
    "name": "ipython",
    "version": 3
   },
   "file_extension": ".py",
   "mimetype": "text/x-python",
   "name": "python",
   "nbconvert_exporter": "python",
   "pygments_lexer": "ipython3",
   "version": "3.10.6"
  }
 },
 "nbformat": 4,
 "nbformat_minor": 5
}
